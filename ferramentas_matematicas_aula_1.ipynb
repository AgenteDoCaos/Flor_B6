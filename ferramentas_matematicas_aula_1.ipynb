{
  "nbformat": 4,
  "nbformat_minor": 0,
  "metadata": {
    "colab": {
      "provenance": [],
      "authorship_tag": "ABX9TyN758kCPvmVf15TYCUXrwlN",
      "include_colab_link": true
    },
    "kernelspec": {
      "name": "python3",
      "display_name": "Python 3"
    },
    "language_info": {
      "name": "python"
    }
  },
  "cells": [
    {
      "cell_type": "markdown",
      "metadata": {
        "id": "view-in-github",
        "colab_type": "text"
      },
      "source": [
        "<a href=\"https://colab.research.google.com/github/AgenteDoCaos/Flor_B6/blob/Ramifica%C3%A7%C3%A3o_temporal_principal/ferramentas_matematicas_aula_1.ipynb\" target=\"_parent\"><img src=\"https://colab.research.google.com/assets/colab-badge.svg\" alt=\"Open In Colab\"/></a>"
      ]
    },
    {
      "cell_type": "code",
      "execution_count": null,
      "metadata": {
        "id": "x0lvk_-QKjzI"
      },
      "outputs": [],
      "source": []
    },
    {
      "cell_type": "markdown",
      "source": [
        "matematica simbólica\n",
        "\n",
        "introdução a matemática simbólica"
      ],
      "metadata": {
        "id": "Nz4r_C16KsYn"
      }
    },
    {
      "cell_type": "code",
      "source": [
        "import sympy\n",
        "from sympy import *\n",
        "x,y = symbols(\"x y\")\n",
        "y=2*x\n",
        "print(y)"
      ],
      "metadata": {
        "colab": {
          "base_uri": "https://localhost:8080/"
        },
        "id": "NooRbg8CLHjY",
        "outputId": "22cec33e-c00e-4723-d6a2-7370d90f93e0"
      },
      "execution_count": 2,
      "outputs": [
        {
          "output_type": "stream",
          "name": "stdout",
          "text": [
            "2*x\n"
          ]
        }
      ]
    },
    {
      "cell_type": "code",
      "source": [
        "y.subs(x, 7)"
      ],
      "metadata": {
        "colab": {
          "base_uri": "https://localhost:8080/",
          "height": 37
        },
        "id": "chELraZPL7Pu",
        "outputId": "0b09bea4-1537-414d-e53c-73a53cec71fe"
      },
      "execution_count": 3,
      "outputs": [
        {
          "output_type": "execute_result",
          "data": {
            "text/plain": [
              "14"
            ],
            "text/latex": "$\\displaystyle 14$"
          },
          "metadata": {},
          "execution_count": 3
        }
      ]
    },
    {
      "cell_type": "markdown",
      "source": [
        "a relação entre o prço de venda **X** de um modelo de aparelho de telefone celular e o lucro **Y** referente a comercialização desse aparelho é dada pela função y= -4*x**2 + 4000*x-20000\n",
        "\n",
        "sendo assim qual é o lucro quando o preço de venda de cada aparelho corresponde a R$ 480,00 ?"
      ],
      "metadata": {
        "id": "hm-pu4VOL3y5"
      }
    },
    {
      "cell_type": "code",
      "source": [
        "from sympy import *\n",
        "x,y = symbols(\"x y\")\n",
        "y=-4*x**2 + 4000*x-200000\n",
        "y.subs(x, 480)"
      ],
      "metadata": {
        "colab": {
          "base_uri": "https://localhost:8080/",
          "height": 37
        },
        "id": "rYf4w8daMvrj",
        "outputId": "404dab1c-640d-4c01-e593-94d1f007c0dd"
      },
      "execution_count": 5,
      "outputs": [
        {
          "output_type": "execute_result",
          "data": {
            "text/plain": [
              "798400"
            ],
            "text/latex": "$\\displaystyle 798400$"
          },
          "metadata": {},
          "execution_count": 5
        }
      ]
    },
    {
      "cell_type": "markdown",
      "source": [
        "fatoração e expansão\n",
        "\n",
        "fatorar x**2+8*x"
      ],
      "metadata": {
        "id": "wz21mwYMNY6l"
      }
    },
    {
      "cell_type": "code",
      "source": [
        "from sympy import *\n",
        "a = symbols(\"a\")\n",
        "factor(a**2+8*a)"
      ],
      "metadata": {
        "colab": {
          "base_uri": "https://localhost:8080/",
          "height": 38
        },
        "id": "7IA7aIxHNi4O",
        "outputId": "c1985aad-63a5-4ed3-d49d-2ae7c353e526"
      },
      "execution_count": 13,
      "outputs": [
        {
          "output_type": "execute_result",
          "data": {
            "text/plain": [
              "a*(a + 8)"
            ],
            "text/latex": "$\\displaystyle a \\left(a + 8\\right)$"
          },
          "metadata": {},
          "execution_count": 13
        }
      ]
    },
    {
      "cell_type": "markdown",
      "source": [
        "expandir x(x+y)"
      ],
      "metadata": {
        "id": "C97bdeYoNzNG"
      }
    },
    {
      "cell_type": "code",
      "source": [
        "from sympy import *\n",
        "b,c = symbols(\"b c\")\n",
        "expand(b*(b+c))"
      ],
      "metadata": {
        "colab": {
          "base_uri": "https://localhost:8080/",
          "height": 38
        },
        "id": "VFPHOY9WN2bj",
        "outputId": "448073a5-166d-4eb0-8899-88089f8d389f"
      },
      "execution_count": 15,
      "outputs": [
        {
          "output_type": "execute_result",
          "data": {
            "text/plain": [
              "b**2 + b*c"
            ],
            "text/latex": "$\\displaystyle b^{2} + b c$"
          },
          "metadata": {},
          "execution_count": 15
        }
      ]
    },
    {
      "cell_type": "markdown",
      "source": [
        "**raizes e equações**\n",
        "\n",
        "uma empresa que fabrica antenas de tv vende cada unidade por 186,00\n",
        "\n",
        "o custo para a produção de cada unidade é de 109,00\n",
        "\n",
        "os custos ficos totais correspondem a 11,200\n",
        "\n",
        "a-escreva a função receita e a função custo\n",
        "\n",
        "c= 109*x+11200\n",
        "\n",
        "r=186*x"
      ],
      "metadata": {
        "id": "c--xVH3FPgJf"
      }
    },
    {
      "cell_type": "code",
      "source": [
        "from sympy import *\n",
        "b,r,c = symbols('b r c')\n",
        "r=186*b\n",
        "c=109*b+11200.0\n",
        "p=solve(Eq(r,c),b)\n",
        "print(p)"
      ],
      "metadata": {
        "colab": {
          "base_uri": "https://localhost:8080/"
        },
        "id": "R6tlDG2rPlB6",
        "outputId": "8453e62f-2e69-41cd-9ed4-4bcf2d70cee7"
      },
      "execution_count": 23,
      "outputs": [
        {
          "output_type": "stream",
          "name": "stdout",
          "text": [
            "[145.454545454545]\n"
          ]
        }
      ]
    },
    {
      "cell_type": "markdown",
      "source": [
        "b-determine também o ponto de equilibrio"
      ],
      "metadata": {
        "id": "l57PPtoPRYjY"
      }
    },
    {
      "cell_type": "code",
      "source": [
        "r.subs(b, p[0])"
      ],
      "metadata": {
        "colab": {
          "base_uri": "https://localhost:8080/",
          "height": 37
        },
        "id": "6pykfX8RRawo",
        "outputId": "8f14a985-f452-4eb0-880c-d26fb478f568"
      },
      "execution_count": 24,
      "outputs": [
        {
          "output_type": "execute_result",
          "data": {
            "text/plain": [
              "27054.5454545455"
            ],
            "text/latex": "$\\displaystyle 27054.5454545455$"
          },
          "metadata": {},
          "execution_count": 24
        }
      ]
    },
    {
      "cell_type": "markdown",
      "source": [
        "quais são as raízes da função y=-x**3-5*x**2+9*x+11 ?"
      ],
      "metadata": {
        "id": "hfHdPInuRnqD"
      }
    },
    {
      "cell_type": "code",
      "source": [
        "import numpy as np\n",
        "coeff = [-1, -5, 9, 11]\n",
        "np.roots(coeff)"
      ],
      "metadata": {
        "colab": {
          "base_uri": "https://localhost:8080/"
        },
        "id": "v2MJCQVLRwhX",
        "outputId": "1f298589-bfba-4f86-b1d6-db6a4eb12cfc"
      },
      "execution_count": 25,
      "outputs": [
        {
          "output_type": "execute_result",
          "data": {
            "text/plain": [
              "array([-6.16975604,  2.0426067 , -0.87285065])"
            ]
          },
          "metadata": {},
          "execution_count": 25
        }
      ]
    },
    {
      "cell_type": "markdown",
      "source": [
        "Gráficos\n",
        "\n",
        "uma empresa que fabrica antenas de tv vende cada unidade por 186,00\n",
        "\n",
        "o custo para a produção de cada unidade é de 109,00\n",
        "\n",
        "os custos ficos totais correspondem a 11,200\n",
        "\n",
        "a-escreva a função receita e a função custo\n",
        "\n",
        "b-faça um gráfico dessas funções em um mesmo sistema de eixos coordenados"
      ],
      "metadata": {
        "id": "yxQDW6ZUSJyF"
      }
    },
    {
      "cell_type": "code",
      "source": [
        "import matplotlib.pyplot as plt\n",
        "import numpy as np\n",
        "x1=np.linspace(0, 300, 100)\n",
        "y1=186*x1\n",
        "y2=109*x1+11200\n",
        "plt.plot(x1, y1)\n",
        "plt.plot(x1, y2)\n",
        "plt.show()"
      ],
      "metadata": {
        "colab": {
          "base_uri": "https://localhost:8080/",
          "height": 430
        },
        "id": "_pOR7XE2SHTk",
        "outputId": "104c0213-38e4-4676-c2c5-7ede44ac10c0"
      },
      "execution_count": 27,
      "outputs": [
        {
          "output_type": "display_data",
          "data": {
            "text/plain": [
              "<Figure size 640x480 with 1 Axes>"
            ],
            "image/png": "[encoded data removed]"
          },
          "metadata": {}
        }
      ]
    }
  ]
}